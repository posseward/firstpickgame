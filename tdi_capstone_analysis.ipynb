{
 "cells": [
  {
   "cell_type": "code",
   "execution_count": 1,
   "id": "clinical-newman",
   "metadata": {},
   "outputs": [
    {
     "name": "stderr",
     "output_type": "stream",
     "text": [
      "C:\\Users\\peter\\Anaconda3\\envs\\geopandas_testenv\\lib\\site-packages\\dash_bootstrap_components\\_table.py:5: UserWarning: \n",
      "The dash_html_components package is deprecated. Please replace\n",
      "`import dash_html_components as html` with `from dash import html`\n",
      "  import dash_html_components as html\n"
     ]
    }
   ],
   "source": [
    "import pandas as pd\n",
    "\n",
    "from surprise import NormalPredictor\n",
    "from surprise import Dataset\n",
    "from surprise import Reader\n",
    "from surprise.model_selection import cross_validate\n",
    "\n",
    "from surprise import SVD\n",
    "\n",
    "from collections import defaultdict\n",
    "\n",
    "from surprise.model_selection import GridSearchCV\n",
    "\n",
    "from surprise import KNNBasic, KNNWithMeans, KNNWithZScore\n",
    "from surprise import SVD, SVDpp, NMF\n",
    "from surprise import SlopeOne, CoClustering\n",
    "from surprise import BaselineOnly\n",
    "\n",
    "import plotly.express as px\n",
    "import plotly.graph_objects as go\n",
    "\n",
    "from jupyter_dash import JupyterDash\n",
    "from dash import Dash, dcc, html, Input, Output, dash_table\n",
    "\n",
    "from PIL import Image\n",
    "import requests\n",
    "from io import BytesIO\n",
    "\n",
    "import dash_bootstrap_components as dbc\n",
    "\n",
    "import joblib"
   ]
  },
  {
   "cell_type": "code",
   "execution_count": 2,
   "id": "sixth-laundry",
   "metadata": {},
   "outputs": [],
   "source": [
    "#get game info\n",
    "folder = r\"C:\\Users\\peter\\Desktop\\tdi_capstone\"\n",
    "game_info_df = pd.read_csv(folder + \"\\\\bgg_game_info.csv\", index_col = 0)"
   ]
  },
  {
   "cell_type": "code",
   "execution_count": 3,
   "id": "signal-longitude",
   "metadata": {},
   "outputs": [
    {
     "name": "stderr",
     "output_type": "stream",
     "text": [
      "C:\\Users\\peter\\Anaconda3\\envs\\geopandas_testenv\\lib\\site-packages\\numpy\\lib\\arraysetops.py:583: FutureWarning: elementwise comparison failed; returning scalar instead, but in the future will perform elementwise comparison\n",
      "  mask |= (ar1 == a)\n"
     ]
    }
   ],
   "source": [
    "#get ratings and comments\n",
    "folder = r\"C:\\Users\\peter\\Desktop\\tdi_capstone\\bgg_api_data\"\n",
    "\n",
    "#read in master game csv\n",
    "ratings_df = pd.read_csv(folder + \"\\\\bgg_all_games.csv\", index_col = 0)\n",
    "ratings_df = ratings_df.reset_index(drop=True)"
   ]
  },
  {
   "cell_type": "code",
   "execution_count": 4,
   "id": "celtic-contributor",
   "metadata": {},
   "outputs": [
    {
     "data": {
      "text/html": [
       "<div>\n",
       "<style scoped>\n",
       "    .dataframe tbody tr th:only-of-type {\n",
       "        vertical-align: middle;\n",
       "    }\n",
       "\n",
       "    .dataframe tbody tr th {\n",
       "        vertical-align: top;\n",
       "    }\n",
       "\n",
       "    .dataframe thead th {\n",
       "        text-align: right;\n",
       "    }\n",
       "</style>\n",
       "<table border=\"1\" class=\"dataframe\">\n",
       "  <thead>\n",
       "    <tr style=\"text-align: right;\">\n",
       "      <th></th>\n",
       "      <th>bgg_id</th>\n",
       "      <th>name</th>\n",
       "      <th>bgg_type</th>\n",
       "      <th>thumbnail</th>\n",
       "      <th>image</th>\n",
       "      <th>description</th>\n",
       "      <th>year_published</th>\n",
       "      <th>players_min</th>\n",
       "      <th>players_max</th>\n",
       "      <th>playingtime</th>\n",
       "      <th>...</th>\n",
       "      <th>boardgameartist</th>\n",
       "      <th>boardgamecategory</th>\n",
       "      <th>boardgamedesigner</th>\n",
       "      <th>boardgamefamily</th>\n",
       "      <th>boardgamemechanic</th>\n",
       "      <th>boardgamepublisher</th>\n",
       "      <th>boardgameimplementation</th>\n",
       "      <th>boardgameexpansion</th>\n",
       "      <th>boardgamecompilation</th>\n",
       "      <th>boardgameintegration</th>\n",
       "    </tr>\n",
       "  </thead>\n",
       "  <tbody>\n",
       "    <tr>\n",
       "      <th>0</th>\n",
       "      <td>1</td>\n",
       "      <td>Die Macher</td>\n",
       "      <td>boardgame</td>\n",
       "      <td>https://cf.geekdo-images.com/rpwCZAjYLD940NWwP...</td>\n",
       "      <td>https://cf.geekdo-images.com/rpwCZAjYLD940NWwP...</td>\n",
       "      <td>Die Macher is a game about seven sequential po...</td>\n",
       "      <td>1986</td>\n",
       "      <td>3</td>\n",
       "      <td>5</td>\n",
       "      <td>240</td>\n",
       "      <td>...</td>\n",
       "      <td>['Marcus Gschwendtner', 'Harald Lieske']</td>\n",
       "      <td>['Economic', 'Negotiation', 'Political']</td>\n",
       "      <td>['Karl-Heinz Schmiel']</td>\n",
       "      <td>['Country: Germany', 'Political: Elections', '...</td>\n",
       "      <td>['Alliances', 'Area Majority / Influence', 'Au...</td>\n",
       "      <td>['Hans im Glück', 'Moskito Spiele', 'Ediciones...</td>\n",
       "      <td>NaN</td>\n",
       "      <td>NaN</td>\n",
       "      <td>NaN</td>\n",
       "      <td>NaN</td>\n",
       "    </tr>\n",
       "    <tr>\n",
       "      <th>1</th>\n",
       "      <td>2</td>\n",
       "      <td>Dragonmaster</td>\n",
       "      <td>boardgame</td>\n",
       "      <td>https://cf.geekdo-images.com/oQYhaJx5Lg3KcGis2...</td>\n",
       "      <td>https://cf.geekdo-images.com/oQYhaJx5Lg3KcGis2...</td>\n",
       "      <td>Dragonmaster is a trick-taking card game based...</td>\n",
       "      <td>1981</td>\n",
       "      <td>3</td>\n",
       "      <td>4</td>\n",
       "      <td>30</td>\n",
       "      <td>...</td>\n",
       "      <td>['Bob Pepper']</td>\n",
       "      <td>['Card Game', 'Fantasy']</td>\n",
       "      <td>['G. W. \"Jerry\" D\\'Arcey']</td>\n",
       "      <td>['Components: Gems/Crystals', 'Creatures: Drag...</td>\n",
       "      <td>['Trick-taking']</td>\n",
       "      <td>['E.S. Lowe', 'Milton Bradley']</td>\n",
       "      <td>['Indulgence', \"Coup d'État\"]</td>\n",
       "      <td>NaN</td>\n",
       "      <td>NaN</td>\n",
       "      <td>NaN</td>\n",
       "    </tr>\n",
       "    <tr>\n",
       "      <th>2</th>\n",
       "      <td>3</td>\n",
       "      <td>Samurai</td>\n",
       "      <td>boardgame</td>\n",
       "      <td>https://cf.geekdo-images.com/o9-sNXmFS_TLAb7Zl...</td>\n",
       "      <td>https://cf.geekdo-images.com/o9-sNXmFS_TLAb7Zl...</td>\n",
       "      <td>Samurai is set in medieval Japan. Players comp...</td>\n",
       "      <td>1998</td>\n",
       "      <td>2</td>\n",
       "      <td>4</td>\n",
       "      <td>60</td>\n",
       "      <td>...</td>\n",
       "      <td>['Franz Vohwinkel']</td>\n",
       "      <td>['Abstract Strategy', 'Medieval']</td>\n",
       "      <td>['Reiner Knizia']</td>\n",
       "      <td>['Components: Map (Continental / National scal...</td>\n",
       "      <td>['Area Majority / Influence', 'Hand Management...</td>\n",
       "      <td>['Fantasy Flight Games', 'Hans im Glück', '999...</td>\n",
       "      <td>['Samurai: The Card Game']</td>\n",
       "      <td>NaN</td>\n",
       "      <td>NaN</td>\n",
       "      <td>NaN</td>\n",
       "    </tr>\n",
       "    <tr>\n",
       "      <th>3</th>\n",
       "      <td>4</td>\n",
       "      <td>Tal der Könige</td>\n",
       "      <td>boardgame</td>\n",
       "      <td>https://cf.geekdo-images.com/nYiYhUlatT2DpyXaJ...</td>\n",
       "      <td>https://cf.geekdo-images.com/nYiYhUlatT2DpyXaJ...</td>\n",
       "      <td>When you see the triangular box and the luxuri...</td>\n",
       "      <td>1992</td>\n",
       "      <td>2</td>\n",
       "      <td>4</td>\n",
       "      <td>60</td>\n",
       "      <td>...</td>\n",
       "      <td>['Thomas di Paolo']</td>\n",
       "      <td>['Ancient']</td>\n",
       "      <td>['Christian Beierer']</td>\n",
       "      <td>['Containers: Triangular Boxes', 'Country: Egy...</td>\n",
       "      <td>['Action Points', 'Area Majority / Influence',...</td>\n",
       "      <td>['KOSMOS']</td>\n",
       "      <td>NaN</td>\n",
       "      <td>NaN</td>\n",
       "      <td>NaN</td>\n",
       "      <td>NaN</td>\n",
       "    </tr>\n",
       "    <tr>\n",
       "      <th>4</th>\n",
       "      <td>5</td>\n",
       "      <td>Acquire</td>\n",
       "      <td>boardgame</td>\n",
       "      <td>https://cf.geekdo-images.com/3C--kJRhi6kTPHsr9...</td>\n",
       "      <td>https://cf.geekdo-images.com/3C--kJRhi6kTPHsr9...</td>\n",
       "      <td>In Acquire, each player strategically invests ...</td>\n",
       "      <td>1964</td>\n",
       "      <td>2</td>\n",
       "      <td>6</td>\n",
       "      <td>90</td>\n",
       "      <td>...</td>\n",
       "      <td>['Scott Okumura', 'Peter Whitley']</td>\n",
       "      <td>['Economic', 'Territory Building']</td>\n",
       "      <td>['Sid Sackson']</td>\n",
       "      <td>['Series: 3M Bookshelf Series']</td>\n",
       "      <td>['Hand Management', 'Investment', 'Market', 'S...</td>\n",
       "      <td>['3M', 'The Avalon Hill Game Co', 'Avalon Hill...</td>\n",
       "      <td>NaN</td>\n",
       "      <td>['1963 World Map Conversion Kit for the Game o...</td>\n",
       "      <td>NaN</td>\n",
       "      <td>NaN</td>\n",
       "    </tr>\n",
       "  </tbody>\n",
       "</table>\n",
       "<p>5 rows × 37 columns</p>\n",
       "</div>"
      ],
      "text/plain": [
       "   bgg_id            name   bgg_type  \\\n",
       "0       1      Die Macher  boardgame   \n",
       "1       2    Dragonmaster  boardgame   \n",
       "2       3         Samurai  boardgame   \n",
       "3       4  Tal der Könige  boardgame   \n",
       "4       5         Acquire  boardgame   \n",
       "\n",
       "                                           thumbnail  \\\n",
       "0  https://cf.geekdo-images.com/rpwCZAjYLD940NWwP...   \n",
       "1  https://cf.geekdo-images.com/oQYhaJx5Lg3KcGis2...   \n",
       "2  https://cf.geekdo-images.com/o9-sNXmFS_TLAb7Zl...   \n",
       "3  https://cf.geekdo-images.com/nYiYhUlatT2DpyXaJ...   \n",
       "4  https://cf.geekdo-images.com/3C--kJRhi6kTPHsr9...   \n",
       "\n",
       "                                               image  \\\n",
       "0  https://cf.geekdo-images.com/rpwCZAjYLD940NWwP...   \n",
       "1  https://cf.geekdo-images.com/oQYhaJx5Lg3KcGis2...   \n",
       "2  https://cf.geekdo-images.com/o9-sNXmFS_TLAb7Zl...   \n",
       "3  https://cf.geekdo-images.com/nYiYhUlatT2DpyXaJ...   \n",
       "4  https://cf.geekdo-images.com/3C--kJRhi6kTPHsr9...   \n",
       "\n",
       "                                         description  year_published  \\\n",
       "0  Die Macher is a game about seven sequential po...            1986   \n",
       "1  Dragonmaster is a trick-taking card game based...            1981   \n",
       "2  Samurai is set in medieval Japan. Players comp...            1998   \n",
       "3  When you see the triangular box and the luxuri...            1992   \n",
       "4  In Acquire, each player strategically invests ...            1964   \n",
       "\n",
       "   players_min  players_max  playingtime  ...  \\\n",
       "0            3            5          240  ...   \n",
       "1            3            4           30  ...   \n",
       "2            2            4           60  ...   \n",
       "3            2            4           60  ...   \n",
       "4            2            6           90  ...   \n",
       "\n",
       "                            boardgameartist  \\\n",
       "0  ['Marcus Gschwendtner', 'Harald Lieske']   \n",
       "1                            ['Bob Pepper']   \n",
       "2                       ['Franz Vohwinkel']   \n",
       "3                       ['Thomas di Paolo']   \n",
       "4        ['Scott Okumura', 'Peter Whitley']   \n",
       "\n",
       "                          boardgamecategory           boardgamedesigner  \\\n",
       "0  ['Economic', 'Negotiation', 'Political']      ['Karl-Heinz Schmiel']   \n",
       "1                  ['Card Game', 'Fantasy']  ['G. W. \"Jerry\" D\\'Arcey']   \n",
       "2         ['Abstract Strategy', 'Medieval']           ['Reiner Knizia']   \n",
       "3                               ['Ancient']       ['Christian Beierer']   \n",
       "4        ['Economic', 'Territory Building']             ['Sid Sackson']   \n",
       "\n",
       "                                     boardgamefamily  \\\n",
       "0  ['Country: Germany', 'Political: Elections', '...   \n",
       "1  ['Components: Gems/Crystals', 'Creatures: Drag...   \n",
       "2  ['Components: Map (Continental / National scal...   \n",
       "3  ['Containers: Triangular Boxes', 'Country: Egy...   \n",
       "4                    ['Series: 3M Bookshelf Series']   \n",
       "\n",
       "                                   boardgamemechanic  \\\n",
       "0  ['Alliances', 'Area Majority / Influence', 'Au...   \n",
       "1                                   ['Trick-taking']   \n",
       "2  ['Area Majority / Influence', 'Hand Management...   \n",
       "3  ['Action Points', 'Area Majority / Influence',...   \n",
       "4  ['Hand Management', 'Investment', 'Market', 'S...   \n",
       "\n",
       "                                  boardgamepublisher  \\\n",
       "0  ['Hans im Glück', 'Moskito Spiele', 'Ediciones...   \n",
       "1                    ['E.S. Lowe', 'Milton Bradley']   \n",
       "2  ['Fantasy Flight Games', 'Hans im Glück', '999...   \n",
       "3                                         ['KOSMOS']   \n",
       "4  ['3M', 'The Avalon Hill Game Co', 'Avalon Hill...   \n",
       "\n",
       "         boardgameimplementation  \\\n",
       "0                            NaN   \n",
       "1  ['Indulgence', \"Coup d'État\"]   \n",
       "2     ['Samurai: The Card Game']   \n",
       "3                            NaN   \n",
       "4                            NaN   \n",
       "\n",
       "                                  boardgameexpansion  boardgamecompilation  \\\n",
       "0                                                NaN                   NaN   \n",
       "1                                                NaN                   NaN   \n",
       "2                                                NaN                   NaN   \n",
       "3                                                NaN                   NaN   \n",
       "4  ['1963 World Map Conversion Kit for the Game o...                   NaN   \n",
       "\n",
       "   boardgameintegration  \n",
       "0                   NaN  \n",
       "1                   NaN  \n",
       "2                   NaN  \n",
       "3                   NaN  \n",
       "4                   NaN  \n",
       "\n",
       "[5 rows x 37 columns]"
      ]
     },
     "execution_count": 4,
     "metadata": {},
     "output_type": "execute_result"
    }
   ],
   "source": [
    "game_info_df.head()"
   ]
  },
  {
   "cell_type": "code",
   "execution_count": 5,
   "id": "prompt-scholar",
   "metadata": {},
   "outputs": [
    {
     "data": {
      "text/plain": [
       "4.7378"
      ]
     },
     "execution_count": 5,
     "metadata": {},
     "output_type": "execute_result"
    }
   ],
   "source": [
    "game_info_df['complexity_average'].max()"
   ]
  },
  {
   "cell_type": "code",
   "execution_count": 6,
   "id": "aerial-liability",
   "metadata": {},
   "outputs": [],
   "source": [
    "ratings_df = ratings_df.merge(game_info_df[['bgg_id', 'name']], left_on='Bggid', right_on='bgg_id')"
   ]
  },
  {
   "cell_type": "code",
   "execution_count": 7,
   "id": "higher-convert",
   "metadata": {},
   "outputs": [
    {
     "data": {
      "text/html": [
       "<div>\n",
       "<style scoped>\n",
       "    .dataframe tbody tr th:only-of-type {\n",
       "        vertical-align: middle;\n",
       "    }\n",
       "\n",
       "    .dataframe tbody tr th {\n",
       "        vertical-align: top;\n",
       "    }\n",
       "\n",
       "    .dataframe thead th {\n",
       "        text-align: right;\n",
       "    }\n",
       "</style>\n",
       "<table border=\"1\" class=\"dataframe\">\n",
       "  <thead>\n",
       "    <tr style=\"text-align: right;\">\n",
       "      <th></th>\n",
       "      <th>Username</th>\n",
       "      <th>Rating</th>\n",
       "      <th>Comment</th>\n",
       "      <th>Bggid</th>\n",
       "      <th>bgg_id</th>\n",
       "      <th>name</th>\n",
       "    </tr>\n",
       "  </thead>\n",
       "  <tbody>\n",
       "    <tr>\n",
       "      <th>0</th>\n",
       "      <td>jackcres</td>\n",
       "      <td>10.0</td>\n",
       "      <td>NaN</td>\n",
       "      <td>1</td>\n",
       "      <td>1</td>\n",
       "      <td>Die Macher</td>\n",
       "    </tr>\n",
       "    <tr>\n",
       "      <th>1</th>\n",
       "      <td>FuManchu</td>\n",
       "      <td>10.0</td>\n",
       "      <td>Play this game.  Play this game a lot.</td>\n",
       "      <td>1</td>\n",
       "      <td>1</td>\n",
       "      <td>Die Macher</td>\n",
       "    </tr>\n",
       "    <tr>\n",
       "      <th>2</th>\n",
       "      <td>HankM</td>\n",
       "      <td>10.0</td>\n",
       "      <td>hard to find enough players</td>\n",
       "      <td>1</td>\n",
       "      <td>1</td>\n",
       "      <td>Die Macher</td>\n",
       "    </tr>\n",
       "    <tr>\n",
       "      <th>3</th>\n",
       "      <td>jonnypolite</td>\n",
       "      <td>10.0</td>\n",
       "      <td>NaN</td>\n",
       "      <td>1</td>\n",
       "      <td>1</td>\n",
       "      <td>Die Macher</td>\n",
       "    </tr>\n",
       "    <tr>\n",
       "      <th>4</th>\n",
       "      <td>pwotruba</td>\n",
       "      <td>10.0</td>\n",
       "      <td>the older Moskito version is for 4 players onl...</td>\n",
       "      <td>1</td>\n",
       "      <td>1</td>\n",
       "      <td>Die Macher</td>\n",
       "    </tr>\n",
       "  </tbody>\n",
       "</table>\n",
       "</div>"
      ],
      "text/plain": [
       "      Username  Rating                                            Comment  \\\n",
       "0     jackcres    10.0                                                NaN   \n",
       "1     FuManchu    10.0             Play this game.  Play this game a lot.   \n",
       "2        HankM    10.0                        hard to find enough players   \n",
       "3  jonnypolite    10.0                                                NaN   \n",
       "4     pwotruba    10.0  the older Moskito version is for 4 players onl...   \n",
       "\n",
       "   Bggid  bgg_id        name  \n",
       "0      1       1  Die Macher  \n",
       "1      1       1  Die Macher  \n",
       "2      1       1  Die Macher  \n",
       "3      1       1  Die Macher  \n",
       "4      1       1  Die Macher  "
      ]
     },
     "execution_count": 7,
     "metadata": {},
     "output_type": "execute_result"
    }
   ],
   "source": [
    "ratings_df.head()"
   ]
  },
  {
   "cell_type": "code",
   "execution_count": 8,
   "id": "animated-possibility",
   "metadata": {},
   "outputs": [
    {
     "data": {
      "text/plain": [
       "231893"
      ]
     },
     "execution_count": 8,
     "metadata": {},
     "output_type": "execute_result"
    }
   ],
   "source": [
    "ratings_df['Username'].nunique()"
   ]
  },
  {
   "cell_type": "code",
   "execution_count": 9,
   "id": "existing-carnival",
   "metadata": {},
   "outputs": [
    {
     "data": {
      "text/plain": [
       "856"
      ]
     },
     "execution_count": 9,
     "metadata": {},
     "output_type": "execute_result"
    }
   ],
   "source": [
    "ratings_df['name'].nunique()"
   ]
  },
  {
   "cell_type": "code",
   "execution_count": 10,
   "id": "southern-japanese",
   "metadata": {},
   "outputs": [
    {
     "data": {
      "text/plain": [
       "(2128849, 6)"
      ]
     },
     "execution_count": 10,
     "metadata": {},
     "output_type": "execute_result"
    }
   ],
   "source": [
    "ratings_df.shape"
   ]
  },
  {
   "cell_type": "code",
   "execution_count": 11,
   "id": "occupied-tobacco",
   "metadata": {},
   "outputs": [],
   "source": [
    "# A reader is still needed but only the rating_scale param is requiered.\n",
    "reader = Reader(rating_scale=(1, 10))\n",
    "\n",
    "# The columns must correspond to user id, item id and ratings (in that order).\n",
    "data = Dataset.load_from_df(ratings_df[['Username', 'name', 'Rating']], reader)"
   ]
  },
  {
   "cell_type": "code",
   "execution_count": null,
   "id": "political-spirituality",
   "metadata": {},
   "outputs": [],
   "source": [
    "#We can now use this dataset as we please, e.g. calling cross_validate\n",
    "#cross_validate(NormalPredictor(), data, cv=3)"
   ]
  },
  {
   "cell_type": "code",
   "execution_count": 12,
   "id": "physical-baseball",
   "metadata": {},
   "outputs": [],
   "source": [
    "#normal_cv\n",
    "#normal_cv = cross_validate(NormalPredictor(), data, cv=3)\n",
    "#normal_cv"
   ]
  },
  {
   "cell_type": "code",
   "execution_count": 15,
   "id": "regional-correspondence",
   "metadata": {},
   "outputs": [
    {
     "name": "stdout",
     "output_type": "stream",
     "text": [
      "Estimating biases using als...\n",
      "Estimating biases using als...\n",
      "Estimating biases using als...\n"
     ]
    },
    {
     "data": {
      "text/plain": [
       "{'test_rmse': array([1.33483736, 1.33358861, 1.33455199]),\n",
       " 'test_mae': array([0.99683461, 0.99596838, 0.99699407]),\n",
       " 'fit_time': (10.011044025421143, 11.09975004196167, 11.340474843978882),\n",
       " 'test_time': (9.283721923828125, 8.951181650161743, 9.844559669494629)}"
      ]
     },
     "execution_count": 15,
     "metadata": {},
     "output_type": "execute_result"
    }
   ],
   "source": [
    "baseline_cv = cross_validate(BaselineOnly(), data, cv=3)\n",
    "baseline_cv"
   ]
  },
  {
   "cell_type": "code",
   "execution_count": null,
   "id": "noticed-trick",
   "metadata": {},
   "outputs": [],
   "source": [
    "#k-NN Based Algorithms\n",
    "#knnbasic_cv = cross_validate(KNNBasic(), data, cv=3)"
   ]
  },
  {
   "cell_type": "code",
   "execution_count": null,
   "id": "annoying-knight",
   "metadata": {},
   "outputs": [],
   "source": [
    "#knnmeans_cv = cross_validate(KNNWithMeans(), data, cv=3)"
   ]
  },
  {
   "cell_type": "code",
   "execution_count": null,
   "id": "spoken-robinson",
   "metadata": {},
   "outputs": [],
   "source": [
    "#knnz_cv = cross_validate(KNNWithZScore(), data, cv=3)"
   ]
  },
  {
   "cell_type": "code",
   "execution_count": 16,
   "id": "adjustable-economy",
   "metadata": {},
   "outputs": [
    {
     "data": {
      "text/plain": [
       "{'test_rmse': array([1.31127976, 1.30904983, 1.30836479]),\n",
       " 'test_mae': array([0.96520353, 0.96277543, 0.96151732]),\n",
       " 'fit_time': (110.78350067138672, 113.63709616661072, 118.19681739807129),\n",
       " 'test_time': (11.547534704208374, 10.838301420211792, 9.812180757522583)}"
      ]
     },
     "execution_count": 16,
     "metadata": {},
     "output_type": "execute_result"
    }
   ],
   "source": [
    "#Matrix Factorization Based Algorithms\n",
    "svd_cv = cross_validate(SVD(), data, cv=3)\n",
    "svd_cv"
   ]
  },
  {
   "cell_type": "code",
   "execution_count": null,
   "id": "fossil-message",
   "metadata": {},
   "outputs": [],
   "source": [
    "#Other Collaborative Filtering Algorithms\n",
    "#slope_cv = cross_validate(SlopeOne(), data, cv=5, n_jobs=5, verbose=False)\n",
    "#slope_cv"
   ]
  },
  {
   "cell_type": "code",
   "execution_count": 12,
   "id": "arctic-latex",
   "metadata": {},
   "outputs": [],
   "source": [
    "def get_top_n(predictions, n=10):\n",
    "    \"\"\"Return the top-N recommendation for each user from a set of predictions.\n",
    "\n",
    "    Args:\n",
    "        predictions(list of Prediction objects): The list of predictions, as\n",
    "            returned by the test method of an algorithm.\n",
    "        n(int): The number of recommendation to output for each user. Default\n",
    "            is 10.\n",
    "\n",
    "    Returns:\n",
    "    A dict where keys are user (raw) ids and values are lists of tuples:\n",
    "        [(raw item id, rating estimation), ...] of size n.\n",
    "    \"\"\"\n",
    "\n",
    "    # First map the predictions to each user.\n",
    "    top_n = defaultdict(list)\n",
    "    for uid, iid, true_r, est, _ in predictions:\n",
    "        top_n[uid].append((iid, est))\n",
    "\n",
    "    # Then sort the predictions for each user and retrieve the k highest ones.\n",
    "    for uid, user_ratings in top_n.items():\n",
    "        user_ratings.sort(key=lambda x: x[1], reverse=True)\n",
    "        top_n[uid] = user_ratings[:n]\n",
    "\n",
    "    return top_n"
   ]
  },
  {
   "cell_type": "code",
   "execution_count": null,
   "id": "alive-zambia",
   "metadata": {},
   "outputs": [],
   "source": []
  },
  {
   "cell_type": "code",
   "execution_count": 19,
   "id": "expired-armstrong",
   "metadata": {},
   "outputs": [
    {
     "name": "stdout",
     "output_type": "stream",
     "text": [
      "1.333510502071252\n",
      "{'reg_all': 0.02}\n"
     ]
    }
   ],
   "source": [
    "\n",
    "param_grid =   {'reg_all': [0.002, 0.02, 0.08]}           #{'n_epochs': [5, 10], 'lr_all': [0.002, 0.005], 'reg_all': [0.4, 0.6]}\n",
    "gs = GridSearchCV(SVD, param_grid, measures=['rmse', 'mae'], cv=2)\n",
    "\n",
    "gs.fit(data)\n",
    "\n",
    "# best RMSE score\n",
    "print(gs.best_score['rmse'])\n",
    "\n",
    "# combination of parameters that gave the best RMSE score\n",
    "print(gs.best_params['rmse'])"
   ]
  },
  {
   "cell_type": "code",
   "execution_count": null,
   "id": "accessible-africa",
   "metadata": {},
   "outputs": [],
   "source": []
  },
  {
   "cell_type": "code",
   "execution_count": 13,
   "id": "seeing-stone",
   "metadata": {},
   "outputs": [],
   "source": [
    "# First train an SVD algorithm on the movielens dataset.\n",
    "data = data\n",
    "trainset = data.build_full_trainset()\n",
    "#algo =   SVD()   #NormalPredictor()\n",
    "#algo.fit(trainset)\n",
    "\n",
    "#SVD\n",
    "#NormalPredictor\n",
    "#BaselineOnly"
   ]
  },
  {
   "cell_type": "code",
   "execution_count": 14,
   "id": "rising-luxury",
   "metadata": {},
   "outputs": [
    {
     "data": {
      "text/plain": [
       "<surprise.prediction_algorithms.matrix_factorization.SVD at 0x1b4850cfb80>"
      ]
     },
     "execution_count": 14,
     "metadata": {},
     "output_type": "execute_result"
    }
   ],
   "source": [
    "algo =   SVD()   #NormalPredictor()\n",
    "algo.fit(trainset)\n"
   ]
  },
  {
   "cell_type": "code",
   "execution_count": 15,
   "id": "coral-canadian",
   "metadata": {},
   "outputs": [],
   "source": [
    "import joblib"
   ]
  },
  {
   "cell_type": "code",
   "execution_count": null,
   "id": "amino-carry",
   "metadata": {},
   "outputs": [],
   "source": [
    "filename = 'recommender_model.sav'\n"
   ]
  },
  {
   "cell_type": "code",
   "execution_count": null,
   "id": "designing-relevance",
   "metadata": {},
   "outputs": [],
   "source": [
    "joblib.dump(algo, filename)"
   ]
  },
  {
   "cell_type": "code",
   "execution_count": null,
   "id": "agreed-rover",
   "metadata": {},
   "outputs": [],
   "source": []
  },
  {
   "cell_type": "code",
   "execution_count": null,
   "id": "subjective-voltage",
   "metadata": {},
   "outputs": [],
   "source": [
    "loaded_model = joblib.load(filename)\n",
    "#result = loaded_model.score(X_test, Y_test)"
   ]
  },
  {
   "cell_type": "code",
   "execution_count": null,
   "id": "attractive-anthropology",
   "metadata": {},
   "outputs": [],
   "source": [
    "algo = loaded_model"
   ]
  },
  {
   "cell_type": "code",
   "execution_count": 16,
   "id": "advanced-custody",
   "metadata": {},
   "outputs": [
    {
     "data": {
      "text/plain": [
       "<surprise.prediction_algorithms.matrix_factorization.SVD at 0x1b4850cfb80>"
      ]
     },
     "execution_count": 16,
     "metadata": {},
     "output_type": "execute_result"
    }
   ],
   "source": [
    "algo"
   ]
  },
  {
   "cell_type": "code",
   "execution_count": 17,
   "id": "coupled-restriction",
   "metadata": {},
   "outputs": [],
   "source": [
    "user_df = pd.DataFrame(ratings_df['Username'].unique())\n",
    "user_df = user_df.rename(columns={0: \"user\"})"
   ]
  },
  {
   "cell_type": "code",
   "execution_count": 18,
   "id": "closing-order",
   "metadata": {},
   "outputs": [],
   "source": [
    "fillValue =  trainset.global_mean #None"
   ]
  },
  {
   "cell_type": "code",
   "execution_count": 19,
   "id": "acknowledged-tower",
   "metadata": {},
   "outputs": [],
   "source": [
    "features_of_interest = ['name','bgg_id' ,'players_min', 'players_max', 'playingtime','rating_average' ,'complexity_average','boardgamecategory','boardgamemechanic', 'thumbnail']"
   ]
  },
  {
   "cell_type": "code",
   "execution_count": 20,
   "id": "agricultural-agency",
   "metadata": {},
   "outputs": [],
   "source": [
    "features_df = game_info_df[features_of_interest]"
   ]
  },
  {
   "cell_type": "code",
   "execution_count": null,
   "id": "express-waste",
   "metadata": {},
   "outputs": [],
   "source": []
  },
  {
   "cell_type": "code",
   "execution_count": 21,
   "id": "ruled-mambo",
   "metadata": {},
   "outputs": [],
   "source": [
    "def get_top_x_recs(username,x_recs, players_min, players_max, time_min, time_max, complexity_min, complexity_max):\n",
    "\n",
    "    target_username = username\n",
    "    \n",
    "    targetUser = trainset.to_inner_uid(target_username) #inner_id of the target user\n",
    "\n",
    "    anti_testset_user = []\n",
    "\n",
    "    user_item_ratings = trainset.ur[targetUser]\n",
    "    user_items = [item for (item,_) in (user_item_ratings)]\n",
    "    ratings = trainset.all_ratings()\n",
    "\n",
    "    for iid in trainset.all_items():\n",
    "        if(iid not in user_items):\n",
    "            anti_testset_user.append((trainset.to_raw_uid(targetUser),trainset.to_raw_iid(iid),fillValue))\n",
    "\n",
    "    predictions = algo.test(anti_testset_user)\n",
    "\n",
    "    pred = pd.DataFrame(predictions)\n",
    "\n",
    "    pred.sort_values(by=['est'],inplace=True,ascending = False)\n",
    "\n",
    "    pred = pred.rename(columns={\"uid\": \"user\", \"iid\": \"name\", \"r_ui\": \"dataset_average\", \"est\": \"predicted_rating\"})\n",
    "\n",
    "    pred = pred.drop(columns=[\"details\"])\n",
    "\n",
    "    pred = pred.merge(features_df, left_on = \"name\", right_on = \"name\")\n",
    "    \n",
    "    pred = pred[pred['players_max'] <= players_max]\n",
    "    \n",
    "    pred = pred[pred['players_max'] >= players_min]\n",
    "    \n",
    "    \n",
    "    pred = pred[pred['playingtime'] >= time_min]\n",
    "    \n",
    "    pred = pred[pred['playingtime'] <= time_max]\n",
    "    \n",
    "    \n",
    "    \n",
    "    pred = pred[pred['complexity_average'] >= complexity_min]\n",
    "    \n",
    "    pred = pred[pred['complexity_average'] <= complexity_max]\n",
    "    \n",
    "    pred = pred.round({'predicted_rating': 1, 'rating_average' : 1})\n",
    "    \n",
    "    \n",
    "    top_x = pred[:x_recs]\n",
    "\n",
    "    return top_x"
   ]
  },
  {
   "cell_type": "code",
   "execution_count": 22,
   "id": "imperial-connection",
   "metadata": {},
   "outputs": [],
   "source": [
    "def get_image(dff, x_iloc):\n",
    "    image_url = dff['thumbnail'].iloc[x_iloc]\n",
    "    \n",
    "    response = requests.get(image_url)\n",
    "    img = Image.open(BytesIO(response.content))\n",
    "    \n",
    "    return img"
   ]
  },
  {
   "cell_type": "code",
   "execution_count": 23,
   "id": "current-lodging",
   "metadata": {},
   "outputs": [],
   "source": [
    "def range_slider_transform(value):\n",
    "    if value == 0:\n",
    "        return 0\n",
    "    if value < 5:\n",
    "        return 2 ** (value -1) * 30\n",
    "    if value ==5:\n",
    "        return 99999"
   ]
  },
  {
   "cell_type": "code",
   "execution_count": 24,
   "id": "spoken-arnold",
   "metadata": {},
   "outputs": [],
   "source": [
    "def make_link(dff, loc):\n",
    "    \n",
    "    web_address = 'https://boardgamegeek.com/boardgame/'\n",
    "    \n",
    "    game_name = dff['name'].iloc[loc]\n",
    "    if len(game_name) > 20:\n",
    "        \n",
    "        game_name = game_name[:17] + '...'\n",
    "    game_web =  web_address + str(dff['bgg_id'].iloc[loc])\n",
    "    \n",
    "    return  html.A(game_name, href= game_web)"
   ]
  },
  {
   "cell_type": "code",
   "execution_count": 25,
   "id": "trying-bearing",
   "metadata": {},
   "outputs": [
    {
     "name": "stdout",
     "output_type": "stream",
     "text": [
      "Dash app running on http://127.0.0.1:8050/\n"
     ]
    }
   ],
   "source": [
    "\n",
    "\n",
    "\n",
    "#app = Dash(__name__)\n",
    "app = JupyterDash(__name__, external_stylesheets = [dbc.themes.BOOTSTRAP])\n",
    "#server = app.server\n",
    "\n",
    "\n",
    "\n",
    "\n",
    "controls = dbc.Card([\n",
    "    \n",
    "    html.H4(\"First Pick Game: A Board Game Recommender System\"),\n",
    "    \n",
    "    dbc.Card([\n",
    "    \n",
    "    dbc.Label([\"User for game recommendations\"]),\n",
    "    \n",
    "    \n",
    "    html.Div([\n",
    "        dcc.Dropdown(user_df.user[:500],user_df.user[0], id='pandas-dropdown-2'),\n",
    "   #     html.Div(id='pandas-output-container-2')\n",
    "    ]),\n",
    "    ],body= True, outline= True),\n",
    "\n",
    "    dbc.Card([\n",
    "    \n",
    "    dbc.Label([\"Number of players in game\"]),\n",
    "    \n",
    "    dcc.RangeSlider(min=1, max=10, step=1, value=[1, 10], id='my-range-slider'),\n",
    "    ],body= True, outline= True),    \n",
    "    \n",
    "    \n",
    "    dbc.Card([\n",
    "    \n",
    "    dbc.Label([\"Average game time\"]),\n",
    "    \n",
    "    dcc.RangeSlider(min=0, max=5, \n",
    "                    \n",
    "                    marks={\n",
    "        0: {'label': '0 min'},\n",
    "        1: {'label': '30 min'},\n",
    "        2: {'label': '1hr'},\n",
    "        3: {'label': '2hr'},\n",
    "        4: {'label': '4hr'},\n",
    "        5: {'label': 'Unlimted'}\n",
    "    },\n",
    "                    \n",
    "                    step=1, value=[0, 5], id='my-range-slider2'),\n",
    "    ],body= True, outline= True), \n",
    "        \n",
    "    dbc.Card([\n",
    "    dbc.Label([\"Game complexity\"]),\n",
    "    \n",
    "    dcc.RangeSlider(min=0, max=5, step=1, value=[0, 5], id='my-range-slider3'),\n",
    "    ],body= True, outline= True), \n",
    "    \n",
    "        \n",
    "    ], body= True, outline= True, style={'backgroundColor': 'white'})\n",
    "\n",
    "\n",
    "\n",
    "\n",
    "\n",
    "pictures =   dbc.Card([\n",
    "    \n",
    "        dbc.Label([\"Top Five Recommended Games\"]),\n",
    "        dbc.Row([ \n",
    "            \n",
    "        dbc.Col([\n",
    "            dbc.Label(id = \"Game1\"  ),\n",
    "            dbc.Card([   (html.Img(id = \"image1\", width=\"162\", height=\"162\")) ])], width=1.5),\n",
    "            \n",
    "        dbc.Col([\n",
    "            dbc.Label(id = \"Game2\"  ),\n",
    "            dbc.Card([   (html.Img(id = \"image2\", width=\"162\", height=\"162\")) ])], width=1.5),\n",
    "            \n",
    "        dbc.Col([\n",
    "            dbc.Label(id = \"Game3\"  ),\n",
    "            dbc.Card([   (html.Img(id = \"image3\", width=\"162\", height=\"162\")) ])], width=1.5),\n",
    "            \n",
    "        dbc.Col([\n",
    "            dbc.Label(id = \"Game4\"  ),\n",
    "            dbc.Card([   (html.Img(id = \"image4\", width=\"162\", height=\"162\")) ])], width=1.5),\n",
    "            \n",
    "        dbc.Col([\n",
    "            dbc.Label(id = \"Game5\"  ),\n",
    "            dbc.Card([   (html.Img(id = \"image5\", width=\"162\", height=\"162\")) ])], width=1.5),\n",
    "            \n",
    "                ])\n",
    "        ], body= True, outline= False, style={'backgroundColor': 'white'})\n",
    "\n",
    "\n",
    "table = dbc.Card([\n",
    "\n",
    "dcc.Graph(id='indicator-graphic2'),\n",
    "    \n",
    "\n",
    "    ],body= True)\n",
    "\n",
    "\n",
    "app.layout = dbc.Card(\n",
    "    [\n",
    "        \n",
    "        \n",
    "     #   dbc.Row(\n",
    "     #       dbc.Col(navbar),\n",
    "      #          no_gutters=True),\n",
    "        \n",
    "        \n",
    "       # dbc.Row(\n",
    "       #     [\n",
    "       #         dbc.Col(html.H1(\"First pick game\"), width=4),\n",
    "                #dbc.Col(pictures, width = 8),\n",
    "       #     ]),\n",
    "        \n",
    "       # html.Hr(),\n",
    "        \n",
    "        dbc.Row(\n",
    "            [\n",
    "                dbc.Col(controls, width= 3),\n",
    "                \n",
    "                dbc.Col([\n",
    "                   \n",
    "                 dbc.Col(   dbc.Row(pictures), lg={\"size\": 12, \"offset\": 2} ),\n",
    "                    \n",
    "                    dbc.Label([\"Game Info\"]),\n",
    "                    \n",
    "                    dbc.Row(table),], width = 8)\n",
    "                         \n",
    "            ],\n",
    "            \n",
    "        ),\n",
    "        \n",
    "        \n",
    "      \n",
    "        #dcc.Graph(id='indicator-graphic'),\n",
    "        \n",
    "    ]\n",
    "    \n",
    ")\n",
    "        \n",
    "\n",
    " \n",
    " \n",
    "\n",
    "@app.callback(\n",
    " #   Output('pandas-output-container-2', 'children'),\n",
    "    Output('image1', 'src'),\n",
    "    Output('image2', 'src'),\n",
    "    Output('image3', 'src'),\n",
    "    Output('image4', 'src'),\n",
    "    Output('image5', 'src'),\n",
    "    Output('Game1', 'children'),\n",
    "    Output('Game2', 'children'),\n",
    "    Output('Game3', 'children'),\n",
    "    Output('Game4', 'children'),\n",
    "    Output('Game5', 'children'),\n",
    "    #Output('indicator-graphic', 'figure'),\n",
    "    Output('indicator-graphic2', 'figure'),\n",
    "    Input('pandas-dropdown-2', 'value'),\n",
    "    Input('my-range-slider', 'value'),\n",
    "    Input('my-range-slider2', 'value'),\n",
    "    Input('my-range-slider3', 'value'))\n",
    "\n",
    "    \n",
    "    \n",
    "\n",
    "def update_graph(value, range_values, range_values2, range_values3):\n",
    "    \n",
    "    #convert the time slider \n",
    "    range_values2 = [range_slider_transform(v) for v in range_values2]\n",
    "    \n",
    "   \n",
    "    #get data frame based off slider values\n",
    "    dff = get_top_x_recs(value, 5, range_values[0], range_values[1], range_values2[0],\n",
    "                         range_values2[1], range_values3[0], range_values3[1])\n",
    "    \n",
    "    #get df for app table, by filtering on the columns that are displayed\n",
    "    df_table = dff[['name', 'predicted_rating', 'rating_average', 'boardgamecategory', 'boardgamemechanic',\n",
    "                   'players_min', 'players_max', 'playingtime', 'complexity_average' ]]\n",
    "    \n",
    "    table_list = df_table.values.tolist()\n",
    "    table_list.insert(0,df_table.columns.tolist())\n",
    "    \n",
    "    table = go.Figure(data=[go.Table(\n",
    "    #header=dict(values=list(df_table.columns),\n",
    "    #            fill_color='white',\n",
    "    #            align='left'),\n",
    "    cells=dict(values=  table_list,       #df_table, #cells=dict(values=df_table.transpose().values.tolist(), # cells=dict(values=df_table.values.tolist(),\n",
    "               fill_color='white',\n",
    "               align='left'))\n",
    "    ])\n",
    "    \n",
    "    table.update_layout(height=440, margin={\"r\":0,\"t\":0,\"l\":0,\"b\":0}) \n",
    "    \n",
    "   \n",
    "    #get image thumbnails\n",
    "    img1 = get_image(dff, 0)\n",
    "    img2 = get_image(dff, 1)\n",
    "    img3 = get_image(dff, 2)\n",
    "    img4 = get_image(dff, 3)\n",
    "    img5 = get_image(dff, 4)\n",
    "    \n",
    "    \n",
    "    \n",
    "    \n",
    "    #get hyperlinks for games to board game geek\n",
    "    game1 = make_link(dff,0)\n",
    "    game2 = make_link(dff,1)\n",
    "    game3 = make_link(dff,2)\n",
    "    game4 = make_link(dff,3)\n",
    "    game5 = make_link(dff,4)\n",
    "    \n",
    "    return  img1, img2, img3, img4, img5, game1, game2, game3, game4, game5, table\n",
    "\n",
    "\n",
    "    \n",
    "\n",
    "\n",
    "if __name__ == '__main__':\n",
    "    app.run_server(debug=True)\n",
    "    #app.run_server(mode='inline')\n"
   ]
  },
  {
   "cell_type": "code",
   "execution_count": null,
   "id": "hydraulic-tampa",
   "metadata": {},
   "outputs": [],
   "source": []
  },
  {
   "cell_type": "code",
   "execution_count": null,
   "id": "several-tracy",
   "metadata": {},
   "outputs": [],
   "source": []
  },
  {
   "cell_type": "code",
   "execution_count": null,
   "id": "backed-float",
   "metadata": {},
   "outputs": [],
   "source": []
  }
 ],
 "metadata": {
  "kernelspec": {
   "display_name": "Python [conda env:geopandas_testenv]",
   "language": "python",
   "name": "conda-env-geopandas_testenv-py"
  },
  "language_info": {
   "codemirror_mode": {
    "name": "ipython",
    "version": 3
   },
   "file_extension": ".py",
   "mimetype": "text/x-python",
   "name": "python",
   "nbconvert_exporter": "python",
   "pygments_lexer": "ipython3",
   "version": "3.8.8"
  }
 },
 "nbformat": 4,
 "nbformat_minor": 5
}
